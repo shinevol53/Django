{
 "cells": [
  {
   "cell_type": "markdown",
   "metadata": {},
   "source": [
    "# MySQL DB 연동"
   ]
  },
  {
   "cell_type": "markdown",
   "metadata": {},
   "source": [
    "mysql 연결 시 \n",
    "error: no module named pymysql\n",
    "\n",
    "solution: pip install pymysql"
   ]
  },
  {
   "cell_type": "code",
   "execution_count": null,
   "metadata": {},
   "outputs": [],
   "source": [
    "# settings.py에서\n",
    "\n",
    "import pymysql\n",
    "\n",
    "pymysql.install_as_MySQLdb()\n",
    "\n",
    "DATABASES = {\n",
    "    'default': {\n",
    "        'ENGINE': 'django.db.backends.mysql',\n",
    "        'NAME': 'book', #임의로 선정\n",
    "        'USER': '###', #heidi sql user name\n",
    "        'PASSWORD': '###', #heidi sql password\n",
    "        'HOST': '##.##.###.##', #ubuntu port번호\n",
    "        'PORT': '3306',\n",
    "    }\n",
    "}\n"
   ]
  },
  {
   "cell_type": "code",
   "execution_count": null,
   "metadata": {},
   "outputs": [],
   "source": [
    "$python manage.py migrate\n",
    "\n",
    "$ python manage.py createsuperuser\n",
    "user, user@email.com, password(dss)"
   ]
  },
  {
   "cell_type": "markdown",
   "metadata": {},
   "source": [
    "### templates>mypage.html 파일 생성"
   ]
  },
  {
   "cell_type": "code",
   "execution_count": null,
   "metadata": {},
   "outputs": [],
   "source": [
    "<!DOCTYPE html>\n",
    "\n",
    "<html>\n",
    "<head>\n",
    "    <mata charset=\"UTF-8\">\n",
    "    <title>Django Tutorial</title>    \n",
    "    \n",
    "</head>\n",
    "\n",
    "<body>\n",
    "Hello, django\n",
    "</body>\n",
    "</html>"
   ]
  },
  {
   "cell_type": "markdown",
   "metadata": {},
   "source": [
    "### View 메소드 정의"
   ]
  },
  {
   "cell_type": "code",
   "execution_count": null,
   "metadata": {},
   "outputs": [],
   "source": [
    "# myapp/views.py 내 추가\n",
    "\n",
    "def DisplayMyPage(request):\n",
    "    return render(request, 'myapp.html')\n",
    "\n",
    "### URL Router에 View 메소드 등록하기\n",
    "\n",
    "sitebase/urls.py\n",
    "\n",
    "from myapp.views import *\n",
    "\n",
    "urlpatterns = [\n",
    "    path('admin/', admin.site.urls),\n",
    "    path('mypage/', DisplayMyPage, name='DisplayMyPage'),\n",
    "\n",
    "]"
   ]
  },
  {
   "cell_type": "markdown",
   "metadata": {},
   "source": [
    "사이트 확인\n",
    "$ python manage.py runserver"
   ]
  },
  {
   "cell_type": "markdown",
   "metadata": {},
   "source": [
    "## 데이터 베이스 연동하기"
   ]
  },
  {
   "cell_type": "markdown",
   "metadata": {},
   "source": [
    "#### Model설계, Migration\n",
    "#### Model 정의\n",
    "\n",
    "*** jsonfield 설치하기***\n",
    "$ pip install jsonfield"
   ]
  },
  {
   "cell_type": "code",
   "execution_count": null,
   "metadata": {},
   "outputs": [],
   "source": [
    "from jsonfield import JSONField\n",
    "# Create your models here.\n",
    "\n",
    "class Book(models.Model):\n",
    "    isbn = models.BigIntegerField(primary_key=True)\n",
    "    title = models.CharField(max_length=128)\n",
    "    memo = JSONField(default={}, dump_kwargs={'ensure_ascii': False})\n",
    "\n",
    "    def __str__(self):\n",
    "        return self.title"
   ]
  },
  {
   "cell_type": "code",
   "execution_count": null,
   "metadata": {},
   "outputs": [],
   "source": [
    "#### myapp>admin.py\n",
    "from myapp.models import Book\n",
    "\n",
    "admin.site.register(Book)"
   ]
  },
  {
   "cell_type": "markdown",
   "metadata": {},
   "source": [
    "#### Migration을 통해 DB에 변경사항 반영\n",
    "$ python manage.py makemigrations myapp\n",
    "-> Create model Book\n",
    "\n",
    "$ python manage.py migrate\n",
    "- Applying myapp_initial... OK\n",
    "\n",
    "=> DB에 Table이 정상적으로 생선된 것\n",
    "\n",
    "#### 확인\n",
    "- git bash에서 ubuntu접속, \n",
    "- $sudo mysql -u<ID> -p<pw>\n",
    "\n",
    "- $use book\n",
    "\n",
    "- mysq> show tables;"
   ]
  },
  {
   "cell_type": "markdown",
   "metadata": {},
   "source": [
    "#### view와 db 연동하기\n",
    "myapp/views.py"
   ]
  },
  {
   "cell_type": "code",
   "execution_count": null,
   "metadata": {},
   "outputs": [],
   "source": [
    "from myapp.models import Book\n",
    "\n",
    "def InsertBook(request, isbn, title, memo):\n",
    "    Book(isbn=isbn, title=title, memo={'content': memo}).save()\n",
    "    return render(request, 'mypage.html',\n",
    "    {'welcome_test': 'Insert: ' + title })\n",
    "\n"
   ]
  }
 ],
 "metadata": {
  "kernelspec": {
   "display_name": "Python 3",
   "language": "python",
   "name": "python3"
  },
  "language_info": {
   "codemirror_mode": {
    "name": "ipython",
    "version": 3
   },
   "file_extension": ".py",
   "mimetype": "text/x-python",
   "name": "python",
   "nbconvert_exporter": "python",
   "pygments_lexer": "ipython3",
   "version": "3.7.7"
  }
 },
 "nbformat": 4,
 "nbformat_minor": 4
}
