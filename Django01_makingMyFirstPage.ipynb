{
 "cells": [
  {
   "cell_type": "markdown",
   "metadata": {},
   "source": [
    "### 웹 프레임워크 Django(python) 실습_window10환경\n",
    "\n",
    "#### Contents\n",
    "1. 프로젝트 & app 생성\n",
    "2. 디렉토리 구조 확인\n",
    "3. 관리자 페이지 확인\n",
    "4. 글쓰기\n",
    "5. 리스트\n",
    "6. 글보기\n",
    "\n",
    "##### 아나콘다에서 Django 설치하기\n",
    "- 아나콘다에서 장고 프레임워크를 위해 가상환경을 만든다\n",
    "$conda create --name FirstProject python=3\n",
    "\n",
    "- 가상환경으로 들어간다\n",
    "$conda activate FirstProject\n",
    "\n",
    "- 장고를 설치한다\n",
    "(FirstProject)$pip install django\n",
    "\n",
    "(윈도우 경우 참고 사이트)\n",
    "https://seogwipo.tistory.com/entry/%ED%8C%8C%EC%9D%B4%EC%8D%AC-%EC%9E%A5%EA%B3%A0-%ED%94%84%EB%A0%88%EC%9E%84%EC%9B%8C%ED%81%AC%EC%97%90-%EC%95%B1-%EC%83%9D%EC%84%B1%ED%95%98%EA%B8%B0?category=892779\n",
    "\n",
    "#### 프로젝트 생성\n",
    "- (FirstProject)$django-admin startproject tutorial\n",
    "- (FirstProject)$ cd tutorial\n",
    "- (FirstProject)$ -/tutorials tree(윈도우x) / tree(윈도우)\n",
    "- (FirstProject)$ cd tutorial\n",
    "- (FristProject)$ dir(.py 파일 조회 가능)\n",
    "\n",
    "#### 앱 생성\n",
    "(FirstProject)$ python manage.py startapp community\n",
    "\n",
    "#### sqlite(데이터저장소 만들기 위해)\n",
    ": settings.py에 있는 sqlite로 저장소 만들기 위해\n",
    "- (FirstProject)$ python manage.py migrate\n",
    "\n",
    "#### superuser 만들기\n",
    "(FirstProject)$ python manage.py createsuperuser\n",
    "Username : ###\n",
    "Email address: ###@###.com\n",
    "Password: ###\n",
    "\n",
    "#### 홈페이지 구동\n",
    "- (FristProject)$ python manage.py runserver 8080 \n",
    "(기본포트 8000, 번호 바꾸고 싶으면 8080 넣기)\n",
    "http://127.0.0.1:8000/\n",
    "- 끌 때는 ctrl+c\n",
    "+ 사이트 살펴보기\n",
    "http://127.0.0.1:8000/admin\n",
    "(유저 관리 가능)\n"
   ]
  },
  {
   "cell_type": "markdown",
   "metadata": {},
   "source": [
    "#### settings.py에서 app 등록 -> 저장\n",
    "Installed_Apps = [...\n",
    "\t\t'community',(쉼표 꼭!)\n",
    "]\n",
    "\n",
    "- community > models.py에 게시판 모델 class로 등록"
   ]
  },
  {
   "cell_type": "code",
   "execution_count": null,
   "metadata": {},
   "outputs": [],
   "source": [
    "class Article(models.Model): # class는 모델을 상속\n",
    "    name = models.CharField(max_length=50)\n",
    "    title = models.CharField(max_length=50)\n",
    "    contents = models.TextField()\n",
    "    url = models.URLField()\n",
    "    email = models.EmailField()\n",
    "    cdate = models.DateTimeField(auto_now_add=True)"
   ]
  },
  {
   "cell_type": "code",
   "execution_count": null,
   "metadata": {},
   "outputs": [],
   "source": [
    "저장(ctrl + s)"
   ]
  },
  {
   "cell_type": "markdown",
   "metadata": {},
   "source": [
    "- community app에 수정사항이 있는지 확인 \n",
    "- (FirstProject)$python manage.py makemigrations community\n",
    "-> create model Article(모델 생성된 점이 수정사항이라고 뜸)\n",
    "\n",
    "- database에 적용하려면 migrate 명령어\n",
    "- (FirstProject) $python manage.py migrate\n",
    "-> community란 테이블이 생성됨\n",
    "-> dblite3에 만들어짐"
   ]
  },
  {
   "cell_type": "markdown",
   "metadata": {},
   "source": [
    "#### 기능추가\n",
    "- User들이 글 쓸 수 있도록 접근할 수 있는 url이 있어야 함\n",
    "tutorials > urls.py에서 수정"
   ]
  },
  {
   "cell_type": "code",
   "execution_count": null,
   "metadata": {},
   "outputs": [],
   "source": [
    "from django.contrib import admin\n",
    "from django.urls import include, path\n",
    "\n",
    "from community.views import *\n",
    "\n",
    "urlpatterns = [\n",
    "    path('admin/', admin.site.urls),\n",
    "    path('write/', write, name='write'),\n",
    "    \n",
    "]"
   ]
  },
  {
   "cell_type": "code",
   "execution_count": null,
   "metadata": {},
   "outputs": [],
   "source": [
    "# community.views에 write 함수 만들기\n",
    "def write(request):\n",
    "    return render(request, 'write.html')\n",
    "\n",
    "#urls.py에서 request가 들어오면 render하는데, 'write.html' template으로\n",
    "#보내는 것\n"
   ]
  },
  {
   "cell_type": "code",
   "execution_count": null,
   "metadata": {},
   "outputs": [],
   "source": [
    "# community > templates폴더 > write.html파일 \n",
    "<!DOCTYPE html>\n",
    "\n",
    "<html lang=\"en\">\n",
    "<head>\n",
    "        <meta charset=\"UTF-8\">\n",
    "        <title>write</title>\n",
    "</head>\n",
    "\n",
    "<body>\n",
    "\n",
    "    hello django!\n",
    "</body>\n",
    "</html>"
   ]
  },
  {
   "cell_type": "code",
   "execution_count": null,
   "metadata": {},
   "outputs": [],
   "source": [
    "\n",
    "# 서버 실행해보기\n",
    "#(FirstProject)$ python manage.py runserver\n",
    "#정상 적용 되었는지 확인\n",
    "\n",
    "#model 내용 적용시키기 위해 community > forms.py 만듦\n"
   ]
  },
  {
   "cell_type": "code",
   "execution_count": null,
   "metadata": {},
   "outputs": [],
   "source": [
    "from django.forms import ModelForm\n",
    "from community.models import *\n",
    "\n",
    "class Form(ModelForm):\n",
    "    class Meta:\n",
    "        model = Article\n",
    "        fields=['name', 'title', 'contents', 'url', 'email']"
   ]
  },
  {
   "cell_type": "code",
   "execution_count": null,
   "metadata": {},
   "outputs": [],
   "source": [
    "# views.py 들어가서\n",
    "#새로 입력\n",
    "from community.forms import *\n",
    "\n",
    "def write(request):\n",
    "    form = Form() #추가\n",
    "    return render(request, 'write.html', {'form':form}) # form변수추가"
   ]
  },
  {
   "cell_type": "code",
   "execution_count": null,
   "metadata": {},
   "outputs": [],
   "source": [
    "# write.html에서 form 그대로 가져다 쓰도록 body 수정\n",
    "<body>\n",
    "    <form action=\"\" method=\"post\">\n",
    "        {% comment %} #생략가능\n",
    "            {{ form.as_table }} #생략가능\n",
    "            {{ form.as_p }} #생략가능\n",
    "            {{ form.as_ul }} #생략가능\n",
    "        {% endcomment %} #생략가능\n",
    "        {{ form.as_p }}\n",
    "        <button type=\"submit\" class=\"btn btn-primary\">저장</button>\n",
    "    </form>\n",
    "    \n",
    "</body>\n"
   ]
  },
  {
   "cell_type": "code",
   "execution_count": null,
   "metadata": {},
   "outputs": [],
   "source": [
    "# forms.py들어가서 POST일 경우 form을 그대로 DB에 저장한다\n",
    "def write(request):\n",
    "\tif request.method == 'POST':\n",
    "\t\tform = Form(request.POST)\n",
    "\t\tif form.is_valid():\n",
    "\t\t\tform.save()\n",
    "\telse:\n",
    "\t\tform = Form() "
   ]
  },
  {
   "cell_type": "code",
   "execution_count": null,
   "metadata": {},
   "outputs": [],
   "source": [
    "# 메모 남겨보고, 저장하면 오류가 나는데 CSRF 토큰 미싱\n",
    "-> 공격을 방어하기 위해서\n",
    "write.html에서\n",
    "{{ form.as_p }}\n",
    "{% csrf_token %} #token 수정\n",
    "\n",
    "# 다시 글 써보고 저장 눌러봄 (사라짐?)"
   ]
  },
  {
   "cell_type": "markdown",
   "metadata": {},
   "source": [
    "#### 저장된 정보 보는 법"
   ]
  },
  {
   "cell_type": "code",
   "execution_count": null,
   "metadata": {},
   "outputs": [],
   "source": [
    "#urls.py에서 들어가서\n",
    "\n",
    "path('list/', list, name='list'), #  추가"
   ]
  },
  {
   "cell_type": "code",
   "execution_count": null,
   "metadata": {},
   "outputs": [],
   "source": [
    "# views.py에 list 함수 만들고\n",
    "def list(request):\n",
    "    return render(request, 'list.html')\n",
    "\n",
    "# list.html 파일 만들어서 임시로 body 수정해보고 확인"
   ]
  },
  {
   "cell_type": "code",
   "execution_count": null,
   "metadata": {},
   "outputs": [],
   "source": [
    "# views.py 들어가서 list함수 수정\n",
    "def list(request):\n",
    "    articlelist = Article.objects.all()\n",
    "    return render(request, 'list.html', {'articlelist':articlelist})"
   ]
  },
  {
   "cell_type": "code",
   "execution_count": null,
   "metadata": {},
   "outputs": [],
   "source": [
    "# list.html 수정\n",
    "<body>\n",
    "    <ul>\n",
    "        <li> 제목 | 저자 | 날짜</li>\n",
    "    {% for article in articlelist %}\n",
    "    <li>{{ article.title }} | {{ article.name }} | {{ article.cdate|date:\"D d M Y\" }}</li>\n",
    "    {% endfor %}\n",
    "</ul>\n"
   ]
  },
  {
   "cell_type": "code",
   "execution_count": null,
   "metadata": {},
   "outputs": [],
   "source": [
    "# 다시 wrtie->list 해보면 새로운 data 저장\n",
    "\n",
    "# 클릭하면 내용을 볼 수 있도록 수정\n",
    "urls.py 에서 path('view/<inte:num>', view),\n",
    "(0-9+ 숫자반복될 수 있고, num인자로 받음, view로 가라)\n"
   ]
  },
  {
   "cell_type": "code",
   "execution_count": null,
   "metadata": {},
   "outputs": [],
   "source": [
    "# views.py에서 view 함수 만들기\n",
    "def view(request, num='1'):\n",
    "    article = Article.objects.get(id=num)\n",
    "    return render(request, 'list.html', {'article':article})\n",
    "\n"
   ]
  },
  {
   "cell_type": "code",
   "execution_count": null,
   "metadata": {},
   "outputs": [],
   "source": [
    "# view.html\n",
    "<!DOCTYPE html>\n",
    "\n",
    "<html lang=\"en\">\n",
    "<head>\n",
    "        <meta charset=\"UTF-8\">\n",
    "        <title>write</title>\n",
    "</head>\n",
    "\n",
    "<body>\n",
    "    <ul>\n",
    "        <li> 제목 | 저자 | 날짜</li>\n",
    "    {% for article in articlelist %}\n",
    "    <li><a href=\"/view/{{article.id}}\">{{ article.title }}</a> | {{ article.name }} | {{ article.cdate|date:\"D d M Y\" }}</li>\n",
    "    {% endfor %}\n",
    "</ul>\n",
    "</body>\n",
    "</html>"
   ]
  },
  {
   "cell_type": "markdown",
   "metadata": {},
   "source": [
    "### 최종 simple 게시판 사이트 주소\n",
    "\n",
    "http://127.0.0.1:8000/list/"
   ]
  },
  {
   "cell_type": "code",
   "execution_count": null,
   "metadata": {},
   "outputs": [],
   "source": []
  }
 ],
 "metadata": {
  "kernelspec": {
   "display_name": "Python 3",
   "language": "python",
   "name": "python3"
  },
  "language_info": {
   "codemirror_mode": {
    "name": "ipython",
    "version": 3
   },
   "file_extension": ".py",
   "mimetype": "text/x-python",
   "name": "python",
   "nbconvert_exporter": "python",
   "pygments_lexer": "ipython3",
   "version": "3.7.7"
  }
 },
 "nbformat": 4,
 "nbformat_minor": 4
}
